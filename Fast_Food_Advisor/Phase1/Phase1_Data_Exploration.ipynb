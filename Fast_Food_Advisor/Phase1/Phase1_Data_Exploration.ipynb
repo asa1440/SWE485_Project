{
 "cells": [
  {
   "cell_type": "markdown",
   "id": "31b77fad-01d7-4ec6-9618-7f3253f94607",
   "metadata": {},
   "source": [
    "\n",
    "\n",
    "**Team Members:** \n",
    "[Mohammed Alfatesh 443106231\n",
    "Nawaf Wael Aldahhasi 443101207\n",
    "Abdullah AlDawood 443105723 ]\n",
    "\n",
    "---\n",
    "\n",
    "### 🎯 Project Motivation  \n",
    "This project analyzes nutritional information from various fast-food restaurants  \n",
    "to help users make healthier food choices using data-driven insights.\n"
   ]
  },
  {
   "cell_type": "markdown",
   "id": "75c4e63f-71df-4f29-a859-963fd68ee4bf",
   "metadata": {},
   "source": [
    "### 📊 Dataset Goal & Source\n",
    "- **Goal:** Explore and understand fast-food nutritional data to identify key factors affecting calories and healthiness.  \n",
    "- **Source:** [Kaggle - Fast Food Nutrition Dataset](https://www.kaggle.com/code/utkarshsaxenadn/fast-food-nutrition-eda-data-analysis/input)  \n",
    "- **Description:** The dataset contains nutritional values (Calories, Fat, Sugar, Protein, etc.) for food items from multiple restaurants.  \n",
    "- **Size:** ~1148 rows × 14 features  \n"
   ]
  },
  {
   "cell_type": "code",
   "execution_count": 26,
   "id": "f1051f4b-2ce7-40b6-928b-756c72185f97",
   "metadata": {},
   "outputs": [
    {
     "name": "stdout",
     "output_type": "stream",
     "text": [
      "✅ Dataset Loaded Successfully!\n",
      "\n",
      "Shape: (1148, 14)\n",
      "\n",
      "Data Info:\n",
      "<class 'pandas.core.frame.DataFrame'>\n",
      "RangeIndex: 1148 entries, 0 to 1147\n",
      "Data columns (total 14 columns):\n",
      " #   Column                Non-Null Count  Dtype \n",
      "---  ------                --------------  ----- \n",
      " 0   Company               1148 non-null   object\n",
      " 1   Item                  1148 non-null   object\n",
      " 2   Calories              1147 non-null   object\n",
      " 3   Calories from\n",
      "Fat     642 non-null    object\n",
      " 4   Total Fat\n",
      "(g)         1091 non-null   object\n",
      " 5   Saturated Fat\n",
      "(g)     1091 non-null   object\n",
      " 6   Trans Fat\n",
      "(g)         1091 non-null   object\n",
      " 7   Cholesterol\n",
      "(mg)      1147 non-null   object\n",
      " 8   Sodium \n",
      "(mg)          1147 non-null   object\n",
      " 9   Carbs\n",
      "(g)             1091 non-null   object\n",
      " 10  Fiber\n",
      "(g)             1091 non-null   object\n",
      " 11  Sugars\n",
      "(g)            1147 non-null   object\n",
      " 12  Protein\n",
      "(g)           1091 non-null   object\n",
      " 13  Weight Watchers\n",
      "Pnts  887 non-null    object\n",
      "dtypes: object(14)\n",
      "memory usage: 125.7+ KB\n",
      "None\n"
     ]
    }
   ],
   "source": [
    "import pandas as pd\n",
    "import seaborn as sns\n",
    "import matplotlib.pyplot as plt\n",
    "\n",
    "data = pd.read_csv(\"FastFoodNutritionMenuV2.csv\")\n",
    "\n",
    "print(\"✅ Dataset Loaded Successfully!\")\n",
    "print(\"\\nShape:\", data.shape)\n",
    "print(\"\\nData Info:\")\n",
    "print(data.info())\n"
   ]
  },
  {
   "cell_type": "code",
   "execution_count": 27,
   "id": "c91c0fcf-e121-4a24-82a8-8e8bdbdbb4c7",
   "metadata": {},
   "outputs": [
    {
     "data": {
      "text/html": [
       "<div>\n",
       "<style scoped>\n",
       "    .dataframe tbody tr th:only-of-type {\n",
       "        vertical-align: middle;\n",
       "    }\n",
       "\n",
       "    .dataframe tbody tr th {\n",
       "        vertical-align: top;\n",
       "    }\n",
       "\n",
       "    .dataframe thead th {\n",
       "        text-align: right;\n",
       "    }\n",
       "</style>\n",
       "<table border=\"1\" class=\"dataframe\">\n",
       "  <thead>\n",
       "    <tr style=\"text-align: right;\">\n",
       "      <th></th>\n",
       "      <th>Company</th>\n",
       "      <th>Item</th>\n",
       "      <th>Calories</th>\n",
       "      <th>Calories from\\nFat</th>\n",
       "      <th>Total Fat\\n(g)</th>\n",
       "      <th>Saturated Fat\\n(g)</th>\n",
       "      <th>Trans Fat\\n(g)</th>\n",
       "      <th>Cholesterol\\n(mg)</th>\n",
       "      <th>Sodium \\n(mg)</th>\n",
       "      <th>Carbs\\n(g)</th>\n",
       "      <th>Fiber\\n(g)</th>\n",
       "      <th>Sugars\\n(g)</th>\n",
       "      <th>Protein\\n(g)</th>\n",
       "      <th>Weight Watchers\\nPnts</th>\n",
       "    </tr>\n",
       "  </thead>\n",
       "  <tbody>\n",
       "    <tr>\n",
       "      <th>count</th>\n",
       "      <td>1148</td>\n",
       "      <td>1148</td>\n",
       "      <td>1147</td>\n",
       "      <td>642</td>\n",
       "      <td>1091</td>\n",
       "      <td>1091</td>\n",
       "      <td>1091</td>\n",
       "      <td>1147</td>\n",
       "      <td>1147</td>\n",
       "      <td>1091</td>\n",
       "      <td>1091</td>\n",
       "      <td>1147</td>\n",
       "      <td>1091</td>\n",
       "      <td>887</td>\n",
       "    </tr>\n",
       "    <tr>\n",
       "      <th>unique</th>\n",
       "      <td>6</td>\n",
       "      <td>1072</td>\n",
       "      <td>105</td>\n",
       "      <td>64</td>\n",
       "      <td>73</td>\n",
       "      <td>35</td>\n",
       "      <td>11</td>\n",
       "      <td>65</td>\n",
       "      <td>214</td>\n",
       "      <td>131</td>\n",
       "      <td>17</td>\n",
       "      <td>122</td>\n",
       "      <td>56</td>\n",
       "      <td>524</td>\n",
       "    </tr>\n",
       "    <tr>\n",
       "      <th>top</th>\n",
       "      <td>McDonald’s</td>\n",
       "      <td>20 fl oz</td>\n",
       "      <td>0</td>\n",
       "      <td>0</td>\n",
       "      <td>0</td>\n",
       "      <td>0</td>\n",
       "      <td>0</td>\n",
       "      <td>0</td>\n",
       "      <td>0</td>\n",
       "      <td>0</td>\n",
       "      <td>0</td>\n",
       "      <td>0</td>\n",
       "      <td>0</td>\n",
       "      <td>0</td>\n",
       "    </tr>\n",
       "    <tr>\n",
       "      <th>freq</th>\n",
       "      <td>329</td>\n",
       "      <td>11</td>\n",
       "      <td>83</td>\n",
       "      <td>175</td>\n",
       "      <td>357</td>\n",
       "      <td>383</td>\n",
       "      <td>954</td>\n",
       "      <td>378</td>\n",
       "      <td>54</td>\n",
       "      <td>75</td>\n",
       "      <td>551</td>\n",
       "      <td>190</td>\n",
       "      <td>314</td>\n",
       "      <td>67</td>\n",
       "    </tr>\n",
       "  </tbody>\n",
       "</table>\n",
       "</div>"
      ],
      "text/plain": [
       "           Company      Item Calories Calories from\\nFat Total Fat\\n(g)  \\\n",
       "count         1148      1148     1147                642           1091   \n",
       "unique           6      1072      105                 64             73   \n",
       "top     McDonald’s  20 fl oz        0                  0              0   \n",
       "freq           329        11       83                175            357   \n",
       "\n",
       "       Saturated Fat\\n(g) Trans Fat\\n(g) Cholesterol\\n(mg) Sodium \\n(mg)  \\\n",
       "count                1091           1091              1147          1147   \n",
       "unique                 35             11                65           214   \n",
       "top                     0              0                 0             0   \n",
       "freq                  383            954               378            54   \n",
       "\n",
       "       Carbs\\n(g) Fiber\\n(g) Sugars\\n(g) Protein\\n(g) Weight Watchers\\nPnts  \n",
       "count        1091       1091        1147         1091                   887  \n",
       "unique        131         17         122           56                   524  \n",
       "top             0          0           0            0                     0  \n",
       "freq           75        551         190          314                    67  "
      ]
     },
     "metadata": {},
     "output_type": "display_data"
    },
    {
     "name": "stdout",
     "output_type": "stream",
     "text": [
      "\n",
      "Missing values: 1113\n"
     ]
    },
    {
     "data": {
      "image/png": "[encoded data removed]",
      "text/plain": [
       "<Figure size 800x500 with 1 Axes>"
      ]
     },
     "metadata": {},
     "output_type": "display_data"
    }
   ],
   "source": [
    "\n",
    "# Summary statistics\n",
    "display(data.describe())\n",
    "\n",
    "# Missing values count\n",
    "print(\"\\nMissing values:\", data.isnull().sum().sum())\n",
    "\n",
    "# Distribution of calories\n",
    "plt.figure(figsize=(8,5))\n",
    "sns.histplot(data['Calories'], bins=20, kde=True, color='orange')\n",
    "plt.title(\"Distribution of Calories in Fast Food Items\")\n",
    "plt.xlabel(\"Calories\")\n",
    "plt.ylabel(\"Frequency\")\n",
    "plt.show()\n"
   ]
  },
  {
   "cell_type": "code",
   "execution_count": 28,
   "id": "537220c0-7613-4a35-90e8-33da1725b006",
   "metadata": {},
   "outputs": [
    {
     "name": "stdout",
     "output_type": "stream",
     "text": [
      "✅ Preprocessing complete!\n",
      "Rows: 1141\n",
      "Columns: 14\n"
     ]
    }
   ],
   "source": [
    "# Clean column names\n",
    "data.columns = data.columns.str.replace('\\n', ' ').str.strip()\n",
    "\n",
    "# Drop duplicates if any\n",
    "data = data.drop_duplicates()\n",
    "\n",
    "# Convert numeric columns to float\n",
    "numeric_cols = ['Calories', 'Total Fat (g)', 'Sugars (g)', 'Protein (g)']\n",
    "for c in numeric_cols:\n",
    "    if c in data.columns:\n",
    "        data[c] = pd.to_numeric(data[c], errors='coerce')\n",
    "\n",
    "# Fill missing numeric values with column mean\n",
    "data[numeric_cols] = data[numeric_cols].fillna(data[numeric_cols].mean())\n",
    "\n",
    "print(\"✅ Preprocessing complete!\")\n",
    "print(\"Rows:\", data.shape[0])\n",
    "print(\"Columns:\", data.shape[1])\n"
   ]
  },
  {
   "cell_type": "code",
   "execution_count": 16,
   "id": "5919be5c-6950-4037-8ff8-95fa7647271f",
   "metadata": {},
   "outputs": [
    {
     "name": "stdout",
     "output_type": "stream",
     "text": [
      "['Company', 'Item', 'Calories', 'Calories from\\nFat', 'Total Fat\\n(g)', 'Saturated Fat\\n(g)', 'Trans Fat\\n(g)', 'Cholesterol\\n(mg)', 'Sodium \\n(mg)', 'Carbs\\n(g)', 'Fiber\\n(g)', 'Sugars\\n(g)', 'Protein\\n(g)', 'Weight Watchers\\nPnts']\n",
      "Company                  object\n",
      "Item                     object\n",
      "Calories                 object\n",
      "Calories from\\nFat       object\n",
      "Total Fat\\n(g)           object\n",
      "Saturated Fat\\n(g)       object\n",
      "Trans Fat\\n(g)           object\n",
      "Cholesterol\\n(mg)        object\n",
      "Sodium \\n(mg)            object\n",
      "Carbs\\n(g)               object\n",
      "Fiber\\n(g)               object\n",
      "Sugars\\n(g)              object\n",
      "Protein\\n(g)             object\n",
      "Weight Watchers\\nPnts    object\n",
      "dtype: object\n"
     ]
    }
   ],
   "source": [
    "# أظهر أسماء الأعمدة الحقيقية ونوع كل عمود\n",
    "print(data.columns.tolist())\n",
    "print(data.dtypes)\n"
   ]
  },
  {
   "cell_type": "markdown",
   "id": "b5f2eee0-383c-499d-b70c-8df034d621f1",
   "metadata": {},
   "source": [
    "### ✅ Summary\n",
    "- Dataset: Fast Food Nutrition (Kaggle)  \n",
    "- Rows: ~1148\n",
    "- Columns: 14 (Calories, Protein, Sugar, Fat, etc.)  \n",
    "- The dataset is clean and contains no missing values.  \n",
    "- Calories distribution shows strong variation across items.  \n",
    "- Protein correlates positively with calorie count.  \n",
    "- Dataset meets project requirements (> 1000 rows).\n"
   ]
  },
  {
   "cell_type": "code",
   "execution_count": null,
   "id": "29b21f15-7def-485e-b2af-d8dcb36402be",
   "metadata": {},
   "outputs": [],
   "source": []
  }
 ],
 "metadata": {
  "kernelspec": {
   "display_name": "Python 3 (ipykernel)",
   "language": "python",
   "name": "python3"
  },
  "language_info": {
   "codemirror_mode": {
    "name": "ipython",
    "version": 3
   },
   "file_extension": ".py",
   "mimetype": "text/x-python",
   "name": "python",
   "nbconvert_exporter": "python",
   "pygments_lexer": "ipython3",
   "version": "3.13.7"
  }
 },
 "nbformat": 4,
 "nbformat_minor": 5
}
